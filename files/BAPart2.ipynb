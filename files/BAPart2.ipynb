{
 "cells": [
  {
   "cell_type": "markdown",
   "metadata": {},
   "source": [
    "# Central-Primitive Orthogonal Idempotents of $\\mathbb{C}S_k$ as Actions on $(\\mathbb{C}^n)^{\\otimes k}$"
   ]
  },
  {
   "cell_type": "markdown",
   "metadata": {},
   "source": [
    "We took linear algebra methods as far as they could go, so this time we will calculate the actions of the primitive-central, orthogonal idempotents of $\\mathbb{C}S_k$ as they project onto the subspaces of $V=\\mathbb{C^n}^{\\otimes k}$ isomorphic to the simple $\\mathfrak{gl}_n(\\mathbb{C})\\bigotimes \\mathbb{C}S_k$ bimodules of $V$.\n",
    "\n",
    "Luckily for us, SAGE already knows what these idempotents are. Let's begin by working with Symmetric Group Algebra. If we assign the group call *.algebra(F)"
   ]
  },
  {
   "cell_type": "code",
   "execution_count": 6,
   "metadata": {},
   "outputs": [],
   "source": [
    "k=3\n",
    "CSk=SymmetricGroup(k).algebra(QQbar)"
   ]
  },
  {
   "cell_type": "code",
   "execution_count": 7,
   "metadata": {},
   "outputs": [
    {
     "name": "stdout",
     "output_type": "stream",
     "text": [
      "[1/6*() + 1/6*(2,3) + 1/6*(1,2) + 1/6*(1,2,3) + 1/6*(1,3,2) + 1/6*(1,3), 2/3*() - 1/3*(1,2,3) - 1/3*(1,3,2), 1/6*() - 1/6*(2,3) - 1/6*(1,2) + 1/6*(1,2,3) + 1/6*(1,3,2) - 1/6*(1,3)]\n"
     ]
    }
   ],
   "source": [
    "CSk_idem=CSk.central_orthogonal_idempotents()\n",
    "print CSk_idem"
   ]
  },
  {
   "cell_type": "markdown",
   "metadata": {},
   "source": [
    "To multiply two elements together, you can simply write out $a*b$. To add them, write $a+b$. We interpret $()$ as the identity permutation, and can pass a permutation (python list) $[x_1,...,x_n]$ through to the algebra and return an element in the algebra using $CSk([x_1,...,x_n])$:"
   ]
  },
  {
   "cell_type": "code",
   "execution_count": 8,
   "metadata": {},
   "outputs": [
    {
     "name": "stdout",
     "output_type": "stream",
     "text": [
      "(1,2)\n",
      "1/6*() + 1/6*(2,3) + 1/6*(1,2) + 1/6*(1,2,3) + 1/6*(1,3,2) + 1/6*(1,3)\n"
     ]
    }
   ],
   "source": [
    "print CSk([2,1])\n",
    "print CSk_idem[0]*CSk([2,1])"
   ]
  },
  {
   "cell_type": "markdown",
   "metadata": {},
   "source": [
    "With so much of the work already done for us, we just need to find a way to interpret an element in the algebra and build a true algebra homomorphism $\\rho:\\mathbb{C}S_k\\rightarrow \\text{End}(V)$."
   ]
  },
  {
   "cell_type": "code",
   "execution_count": 9,
   "metadata": {},
   "outputs": [
    {
     "name": "stdout",
     "output_type": "stream",
     "text": [
      "[(), (1,3,2), (1,2,3), (2,3), (1,3), (1,2)]\n"
     ]
    }
   ],
   "source": [
    "CSk_basis=[p for p in SymmetricGroup(k)]\n",
    "print CSk_basis"
   ]
  },
  {
   "cell_type": "markdown",
   "metadata": {},
   "source": [
    "After building a basis set, we can obtain the $k!$- vector of coefficients from any idempotent."
   ]
  },
  {
   "cell_type": "code",
   "execution_count": 10,
   "metadata": {},
   "outputs": [
    {
     "name": "stdout",
     "output_type": "stream",
     "text": [
      "2/3*() - 1/3*(1,2,3) - 1/3*(1,3,2)\n",
      "(2/3, -1/3, -1/3, 0, 0, 0)\n"
     ]
    }
   ],
   "source": [
    "s=CSk_idem[1]\n",
    "v=zero_vector(QQbar, factorial(k))\n",
    "print s\n",
    "for i in range(0,factorial(k)):\n",
    "    v[i]=s.coefficient(CSk_basis[i])\n",
    "print v"
   ]
  },
  {
   "cell_type": "markdown",
   "metadata": {},
   "source": [
    "Now as long as we can define $\\rho$ on each element of $S_k$, we can express the endomorphism as the sum of matrices with these coefficients. So let's bring back our $\\rho$ function from last time:"
   ]
  },
  {
   "cell_type": "code",
   "execution_count": 11,
   "metadata": {},
   "outputs": [],
   "source": [
    "def rho_local(g,n,k):\n",
    "    z=zero_matrix(n^k)\n",
    "    for j in range(0,n^k):\n",
    "        l=NN(j).digits(n) \n",
    "        s=[0]\n",
    "        while len((n^k-1).digits(n))-len(l) !=0:\n",
    "            l=l+s \n",
    "        l.reverse() \n",
    "        perm=\"(\"+str(j)+\",\"\n",
    "        m=g(l)\n",
    "        m.reverse() \n",
    "        y=0\n",
    "        for i in range(len(l)):\n",
    "            y+=m[i]*n^i\n",
    "        perm+=str(y)+\")\"        \n",
    "        for i in range(0,n^k):\n",
    "            if i==y:\n",
    "                z[i,j]=1\n",
    "    return z"
   ]
  },
  {
   "cell_type": "code",
   "execution_count": 12,
   "metadata": {},
   "outputs": [],
   "source": [
    "def vectorize_element(s,k):\n",
    "    v=zero_vector(QQbar, factorial(k))\n",
    "    for i in range(0,factorial(k)):\n",
    "        v[i]=s.coefficient(CSk_basis[i])\n",
    "    return v"
   ]
  },
  {
   "cell_type": "markdown",
   "metadata": {},
   "source": [
    "Now, we can define a morphism on the symmetric group algebra:"
   ]
  },
  {
   "cell_type": "code",
   "execution_count": 13,
   "metadata": {},
   "outputs": [],
   "source": [
    "def rho(s,n,k):\n",
    "    vec=vectorize_element(s,k)\n",
    "    mat=zero_matrix(QQbar,n^k)\n",
    "    for i in range(0,factorial(k)):\n",
    "        m=rho_local(CSk_basis[i],n,k)\n",
    "        mat+=vec[i]*m\n",
    "    return mat"
   ]
  },
  {
   "cell_type": "markdown",
   "metadata": {},
   "source": [
    "Now we will use everything we made to see what our idempotent endomorphisms look like:"
   ]
  },
  {
   "cell_type": "code",
   "execution_count": 14,
   "metadata": {},
   "outputs": [
    {
     "name": "stdout",
     "output_type": "stream",
     "text": [
      "[  1   0   0   0   0   0   0   0   0]\n",
      "[  0 1/2   0 1/2   0   0   0   0   0]\n",
      "[  0   0 1/2   0   0   0 1/2   0   0]\n",
      "[  0 1/2   0 1/2   0   0   0   0   0]\n",
      "[  0   0   0   0   1   0   0   0   0]\n",
      "[  0   0   0   0   0 1/2   0 1/2   0]\n",
      "[  0   0 1/2   0   0   0 1/2   0   0]\n",
      "[  0   0   0   0   0 1/2   0 1/2   0]\n",
      "[  0   0   0   0   0   0   0   0   1]\n",
      "The rank of this matrix is: 6\n",
      "[   0    0    0    0    0    0    0    0    0]\n",
      "[   0  1/2    0 -1/2    0    0    0    0    0]\n",
      "[   0    0  1/2    0    0    0 -1/2    0    0]\n",
      "[   0 -1/2    0  1/2    0    0    0    0    0]\n",
      "[   0    0    0    0    0    0    0    0    0]\n",
      "[   0    0    0    0    0  1/2    0 -1/2    0]\n",
      "[   0    0 -1/2    0    0    0  1/2    0    0]\n",
      "[   0    0    0    0    0 -1/2    0  1/2    0]\n",
      "[   0    0    0    0    0    0    0    0    0]\n",
      "The rank of this matrix is: 3\n"
     ]
    }
   ],
   "source": [
    "k=2\n",
    "n=3\n",
    "CSk=SymmetricGroup(k).algebra(QQbar)\n",
    "CSk_idem=CSk.central_orthogonal_idempotents()\n",
    "CSk_basis=[p for p in SymmetricGroup(k)]\n",
    "\n",
    "for s in CSk_idem:\n",
    "    M= rho(s,n,k)\n",
    "    print M\n",
    "    print \"The rank of this matrix is: \" + str(M.rank())\n"
   ]
  },
  {
   "cell_type": "markdown",
   "metadata": {},
   "source": [
    "Just as we had hoped, the rank sums up to the dimension of $V$. We will now try various values of n, k and see if the column spaces of these matrices intersect trivially, thereby telling us that $V$ is the direct sum of projected spaces, and check if each projected space is invariant under the generators of $S_k$, telling us that $V$ has a subspace that decomposes as an $\\mathbb{C}S_k$ module. Lastly, we see if the ranks of the matrices sum up to the dimension of $V$, telling us that $V$ in fact admits this decomposition"
   ]
  },
  {
   "cell_type": "code",
   "execution_count": 15,
   "metadata": {
    "scrolled": true
   },
   "outputs": [
    {
     "name": "stdout",
     "output_type": "stream",
     "text": [
      "Using n = 2 and k = 2: \n",
      "All checks out!\n",
      "Using n = 2 and k = 3: \n",
      "All checks out!\n",
      "Using n = 3 and k = 2: \n",
      "All checks out!\n",
      "Using n = 3 and k = 3: \n",
      "All checks out!\n"
     ]
    }
   ],
   "source": [
    "\n",
    "for n in range(2,4):\n",
    "    for k in range(2,4):\n",
    "        print \"Using n = \"+str(n)+\" and k = \"+str(k)+\": \"\n",
    "\n",
    "        Sk=SymmetricGroup(k)\n",
    "        CSk=SymmetricGroup(k).algebra(QQbar)\n",
    "        CSk_idem=CSk.central_orthogonal_idempotents()\n",
    "        CSk_basis=[p for p in SymmetricGroup(k)]\n",
    "        mat_list=[]\n",
    "        for s in CSk_idem:\n",
    "            mat_list.append(rho(s,n,k))\n",
    "        dim_sum=0\n",
    "        for M in mat_list:\n",
    "            dim_sum+=M.rank()\n",
    "            Mcol=M.column_space()\n",
    "            for N in mat_list:\n",
    "                if M!=N:\n",
    "                    Ncol=N.column_space()\n",
    "                    IntSpace=Mcol.intersection(Ncol)\n",
    "                    if IntSpace.dimension()!=0:\n",
    "                        print \"ERROR\"\n",
    "                        break\n",
    "            for g in Sk.gens():\n",
    "                gMat=rho_local(g,n,k)\n",
    "                Mact=(gMat*M).column_space()\n",
    "                if not Mact.is_subspace(Mcol):\n",
    "                    print \"Error\"\n",
    "                    break\n",
    "        if dim_sum != n^k:\n",
    "            print \"Error\"\n",
    "            break\n",
    "        print \"All checks out!\"\n",
    "        \n"
   ]
  },
  {
   "cell_type": "code",
   "execution_count": null,
   "metadata": {},
   "outputs": [],
   "source": []
  }
 ],
 "metadata": {
  "kernelspec": {
   "display_name": "SageMath 8.6",
   "language": "",
   "name": "sagemath"
  },
  "language_info": {
   "codemirror_mode": {
    "name": "ipython",
    "version": 2
   },
   "file_extension": ".py",
   "mimetype": "text/x-python",
   "name": "python",
   "nbconvert_exporter": "python",
   "pygments_lexer": "ipython2",
   "version": "2.7.15"
  }
 },
 "nbformat": 4,
 "nbformat_minor": 2
}
