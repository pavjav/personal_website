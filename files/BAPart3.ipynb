{
 "cells": [
  {
   "cell_type": "markdown",
   "metadata": {},
   "source": [
    "# Brauer Algebra Idempotents\n",
    "\n",
    "The Brauer Algebra, $B_k(z)$, is an important subalgebra of the Partition Algebra, $P_k(z)$. We view $P_k(z)$ as the set of partitions of $\\{-k,...,-1,1,...,k\\}$. $P_k(z)$ has a well defined action on $V=(\\mathbb{C}^n)^{\\otimes k}$. Let $d$ be a diagram in $P_k$, i.e. a basis vector. Then the action of d on a tensor is given as:\n",
    "\n",
    "$$d\\cdot(v_{i_1}\\otimes...\\otimes v_{i_k})=\\sum_{1\\leq i_{-1},...,i_{-k}\\leq n} \\delta(d)_{i_1,...,i_k}^{i_{-1},...,i_{-k}}v_{i_{-1}}\\otimes...\\otimes v_{i_{-k}},$$\n",
    "\n",
    "where \n",
    "\n",
    "$\\delta(d)_{i_1,...,i_k}^{i_{-1},...,i_{-k}}$ is 1 if {s,t} with $s,t\\in\\{-k,...,-1,1,...,k\\}$ are in the same block ($\\{s,t\\}$ is a connected component of $d$) implies $i_s=i_t$. It is 0 otherwise. We extend that action $\\mathbb{C}-linearly$, and define it that way on $P_k(z)$. For a presentation of the Brauer and Partition algebras, we refer the reader to a paper by Ram and Halverson, https://arxiv.org/pdf/math/0401314.pdf. This paper also explains which Lie groups/Lie algebras are central to the various diagram algebras. But for our purposes, we will just focus on the algebras themselves.\n",
    "\n",
    "It is often helpful to view partitions using diagrams, and SAGE provides tools for just that."
   ]
  },
  {
   "cell_type": "code",
   "execution_count": 16,
   "metadata": {},
   "outputs": [],
   "source": [
    "import sage.combinat.diagram_algebras as da"
   ]
  },
  {
   "cell_type": "code",
   "execution_count": 17,
   "metadata": {},
   "outputs": [],
   "source": [
    "def partition_to_graph(m,k):\n",
    "    g=da.to_graph(m)\n",
    "    pos_dict={}\n",
    "    for j in range(-k,0):\n",
    "        pos_dict[j]=[-cos(pi*(-j)/(k+1)),sin(pi*(-j)/(k+1))]\n",
    "    for j in range(1,k+1):\n",
    "        pos_dict[j]=[-cos(pi*(-j)/(k+1)),sin(pi*(-j)/(k+1))]\n",
    "    return g.graphplot(pos=pos_dict,vertex_size=150,vertex_color='white',figsize=1.7)"
   ]
  },
  {
   "cell_type": "code",
   "execution_count": 18,
   "metadata": {},
   "outputs": [
    {
     "name": "stdout",
     "output_type": "stream",
     "text": [
      "{{-4, 1}, {-3, 3}, {-2, 2}, {-1, 4}}\n"
     ]
    },
    {
     "data": {
      "image/png": "[encoded data removed]",
      "text/plain": [
       "Graphics object consisting of 13 graphics primitives"
      ]
     },
     "metadata": {},
     "output_type": "display_data"
    }
   ],
   "source": [
    "B4=SetPartitionsBk(4)\n",
    "s=B4[3]\n",
    "print s\n",
    "partition_to_graph(s,4).show(figsize=1.7)"
   ]
  },
  {
   "cell_type": "markdown",
   "metadata": {},
   "source": [
    "This element is actually in the Symmetric Group, $S_4$, and we can identify it with the permutation $(1~4)$. Let $n=2$, $k=4$. We should want that $e_1\\otimes e_1 \\otimes e_1 \\otimes e_2$ is sent to $e_2\\otimes e_1 \\otimes e_1 \\otimes e_1$ under this permutation. Surely enough, $\\delta(d)_{1,1,1,2}^{i_{-1},i_{-2},i_{-3},i_{-4}}$ will be zero everywhere except for $(i_{-1},i_{-2},i_{-3},i_{-4})=(2,1,1,1)$. \n",
    "\n",
    "Brauer diagrams can be defined as the partitions of $P_k$ for which every set in the partition has cardinality 2.\n",
    "\n",
    "Here's a really basic, but important element of $B_2(z):$"
   ]
  },
  {
   "cell_type": "code",
   "execution_count": 19,
   "metadata": {},
   "outputs": [
    {
     "name": "stdout",
     "output_type": "stream",
     "text": [
      "{{-2, -1}, {1, 2}}\n"
     ]
    },
    {
     "data": {
      "image/png": "[encoded data removed]",
      "text/plain": [
       "Graphics object consisting of 7 graphics primitives"
      ]
     },
     "metadata": {},
     "output_type": "display_data"
    }
   ],
   "source": [
    "B2=SetPartitionsBk(2)\n",
    "s=B2[2]\n",
    "print s\n",
    "partition_to_graph(s,2).show(figsize=1.7)"
   ]
  },
  {
   "cell_type": "markdown",
   "metadata": {},
   "source": [
    "With $n=2$, this element will do the following to our simple basis tensors:\n",
    "\n",
    "$$e_1\\otimes e_1\\mapsto e_1\\otimes e_1+e_2\\otimes e_2$$\n",
    "\n",
    "$$e_2\\otimes e_1\\mapsto 0$$\n",
    "\n",
    "$$e_1\\otimes e_2\\mapsto 0$$\n",
    "\n",
    "$$e_2\\otimes e_2\\mapsto e_1\\otimes e_1+e_2\\otimes e_2$$\n",
    "\n",
    "As a matrix representation, this would look like:\n",
    "\n",
    "$$\\left(\\begin{array}{rrrr}\n",
    "1 & 0 & 0 & 1 \\\\\n",
    "0 & 0 & 0 & 0 \\\\\n",
    "0 & 0 & 0 & 0 \\\\\n",
    "1 & 0 & 0 & 1\n",
    "\\end{array}\\right)$$\n",
    "\n",
    "So how can we generalize this to the fullest extent for any $n$ and any $k$? We need to define a representation, $\\psi:B_k(z)\\rightarrow \\text{End}(V)$. Just like last time, we will be using the set $\\{0,...,n-1\\}$ to index our basis vectors $e_i$ in order to create a convention on the $n$-ary expansion of the vector corresponding to $(i_1,...,i_k)$. What we will do differently is define our local function not on the Symmetric Group, but on the Set Partitions themselves. This serves as a basis, but we do not get a simple permutation as a group action on the list $(i_1,...,i_k)$ like we did with the basis set $S_k$. So, we need to get a little more creative. The upshot here is that we can adapt this setup for any general diagram algebra, and not just $B_k$.\n",
    "\n",
    "One obstacle to overcome is defining the $\\delta$ function. How do we tell that two vertices are connected in our graph? One thing we can do is find all of the connected components of the graph itself!"
   ]
  },
  {
   "cell_type": "code",
   "execution_count": 20,
   "metadata": {},
   "outputs": [],
   "source": [
    "def connected_components(m):\n",
    "    collection=[]\n",
    "    for X in m:\n",
    "        collection.append(X)\n",
    "\n",
    "    subsetsofsizetwo=[]\n",
    "    for X in collection:\n",
    "        for Y in Set(X).subsets(2):\n",
    "            subsetsofsizetwo.append(Y)\n",
    "    return subsetsofsizetwo"
   ]
  },
  {
   "cell_type": "markdown",
   "metadata": {},
   "source": [
    "Let's see if this works!"
   ]
  },
  {
   "cell_type": "code",
   "execution_count": 21,
   "metadata": {},
   "outputs": [
    {
     "name": "stdout",
     "output_type": "stream",
     "text": [
      "{{-4, -3, -2, -1, 1, 2, 3}, {4}}\n"
     ]
    },
    {
     "data": {
      "image/png": "[encoded data removed]",
      "text/plain": [
       "Graphics object consisting of 15 graphics primitives"
      ]
     },
     "metadata": {},
     "output_type": "display_data"
    },
    {
     "name": "stdout",
     "output_type": "stream",
     "text": [
      "[{1, 2}, {1, 3}, {1, -1}, {1, -4}, {1, -3}, {1, -2}, {2, 3}, {2, -1}, {2, -4}, {2, -3}, {2, -2}, {3, -1}, {3, -4}, {3, -3}, {3, -2}, {-4, -1}, {-3, -1}, {-2, -1}, {-4, -3}, {-4, -2}, {-3, -2}]\n"
     ]
    }
   ],
   "source": [
    "P4=SetPartitionsPk(4)\n",
    "s=P4[1]\n",
    "print s\n",
    "partition_to_graph(s,4).show(figsize=2.7)\n",
    "\n",
    "print connected_components(s)"
   ]
  },
  {
   "cell_type": "markdown",
   "metadata": {},
   "source": [
    "Knowing what two vertices are connected in our graph should make defining $\\delta$ a breeze."
   ]
  },
  {
   "cell_type": "code",
   "execution_count": 23,
   "metadata": {},
   "outputs": [],
   "source": [
    "def delta(m,k,pos_index=[],neg_index=[]):\n",
    "    \"\"\"\n",
    "    returns 0 or 1\n",
    "    pos/neg_index are lists of size k with entries {0,...,n-1}\n",
    "    \"\"\"\n",
    "    #first we check the for the negation of {r,s}-->i_r=i_s\n",
    "    del_dict={}\n",
    "    for i in range(1,k+1):\n",
    "        del_dict[i]=pos_index[i-1]\n",
    "    for i in range(-k,0):\n",
    "        del_dict[i]=neg_index[-i-1]\n",
    "    ConnectedComp=connected_components(m)\n",
    "    for x in ConnectedComp:\n",
    "        if del_dict[x[0]] != del_dict[x[1]]:\n",
    "            return 0\n",
    "    #since the negation is false, we must have that delta is 1\n",
    "    return 1"
   ]
  },
  {
   "cell_type": "code",
   "execution_count": null,
   "metadata": {},
   "outputs": [],
   "source": []
  },
  {
   "cell_type": "markdown",
   "metadata": {},
   "source": [
    "Let's look at $\\delta_{1,1,1,2}^{1,1,1,1}((1~4))$ and $\\delta_{1,1,1,2}^{2,1,1,1}((1~4))$:"
   ]
  },
  {
   "cell_type": "code",
   "execution_count": 24,
   "metadata": {},
   "outputs": [
    {
     "data": {
      "image/png": "[encoded data removed]",
      "text/plain": [
       "Graphics object consisting of 13 graphics primitives"
      ]
     },
     "metadata": {},
     "output_type": "display_data"
    }
   ],
   "source": [
    "B4=SetPartitionsBk(4)\n",
    "s=B4[3]\n",
    "partition_to_graph(s,4).show(figsize=1.7)"
   ]
  },
  {
   "cell_type": "code",
   "execution_count": 25,
   "metadata": {},
   "outputs": [
    {
     "name": "stdout",
     "output_type": "stream",
     "text": [
      "delta(s,k,[1,1,1,2],[1,1,1,1]) is: \n",
      "0\n",
      "delta(s,k,[1,1,1,2],[2,1,1,1]) is: \n",
      "1\n"
     ]
    }
   ],
   "source": [
    "print \"delta(s,k,[1,1,1,2],[1,1,1,1]) is: \"\n",
    "print delta(s,4,[1,1,1,2],[1,1,1,1])\n",
    "print \"delta(s,k,[1,1,1,2],[2,1,1,1]) is: \"\n",
    "print delta(s,4,[1,1,1,2],[2,1,1,1])"
   ]
  },
  {
   "cell_type": "markdown",
   "metadata": {},
   "source": [
    "Now, let's define $\\psi$ on the basis elements of $P_k$:"
   ]
  },
  {
   "cell_type": "code",
   "execution_count": 26,
   "metadata": {},
   "outputs": [],
   "source": [
    "def psi_local(m,n,k):\n",
    "    # function takes m in Partition{-k,...,k} and returns\n",
    "    # an n^k matrix as its action on our basis\n",
    "    z=zero_matrix(n^k)\n",
    "    for j in range(0,n^k): #columns\n",
    "        l=NN(j).digits(n) #list of base n digits\n",
    "        l.reverse() #read right to left in expansion\n",
    "        s=[0] #digits returns the minimal list of non-zero elements in the expansion, so we need to make it uniform\n",
    "        while len((n^k-1).digits(n))-len(l) !=0:\n",
    "            l=s+l\n",
    "        for i in range(0,n^k): #rows\n",
    "            h=NN(i).digits(n)\n",
    "            h.reverse()\n",
    "            while len((n^k-1).digits(n))-len(h) !=0:\n",
    "                h=s+h\n",
    "            z[i,j]=delta(m,k,l,h)\n",
    "    return z"
   ]
  },
  {
   "cell_type": "markdown",
   "metadata": {},
   "source": [
    "This next chunk of code will let us know if everything is running smoothly:"
   ]
  },
  {
   "cell_type": "code",
   "execution_count": 27,
   "metadata": {},
   "outputs": [
    {
     "name": "stdout",
     "output_type": "stream",
     "text": [
      "{{-2, 1}, {-1, 2}} is identified with the permutation (1 2).\n",
      "It can be visualized as: \n"
     ]
    },
    {
     "data": {
      "image/png": "[encoded data removed]",
      "text/plain": [
       "Graphics object consisting of 7 graphics primitives"
      ]
     },
     "metadata": {},
     "output_type": "display_data"
    },
    {
     "name": "stdout",
     "output_type": "stream",
     "text": [
      "Then rho((1 2))=psi((1 2)):\n",
      "[1 0 0 0]\n",
      "[0 0 1 0]\n",
      "[0 1 0 0]\n",
      "[0 0 0 1]\n",
      "Just to be sure, when n=2,k=3:\n",
      "{{-3, 3}, {-2, 1}, {-1, 2}} goes to (1 2)\n",
      "It can be visualized as: \n"
     ]
    },
    {
     "data": {
      "image/png": "[encoded data removed]",
      "text/plain": [
       "Graphics object consisting of 10 graphics primitives"
      ]
     },
     "metadata": {},
     "output_type": "display_data"
    },
    {
     "name": "stdout",
     "output_type": "stream",
     "text": [
      "And it's representation is: \n",
      "[1 0 0 0 0 0 0 0]\n",
      "[0 1 0 0 0 0 0 0]\n",
      "[0 0 0 0 1 0 0 0]\n",
      "[0 0 0 0 0 1 0 0]\n",
      "[0 0 1 0 0 0 0 0]\n",
      "[0 0 0 1 0 0 0 0]\n",
      "[0 0 0 0 0 0 1 0]\n",
      "[0 0 0 0 0 0 0 1]\n",
      "\n",
      "Now for some random old diagram: \n",
      "{{-3, -2, 3}, {-1, 1, 2}}\n",
      "It can be visualized as: \n"
     ]
    },
    {
     "data": {
      "image/png": "[encoded data removed]",
      "text/plain": [
       "Graphics object consisting of 11 graphics primitives"
      ]
     },
     "metadata": {},
     "output_type": "display_data"
    },
    {
     "name": "stdout",
     "output_type": "stream",
     "text": [
      "And it's representation is: \n",
      "[1 0 0 0 0 0 0 0]\n",
      "[0 0 0 0 0 0 0 0]\n",
      "[0 0 0 0 0 0 0 0]\n",
      "[0 1 0 0 0 0 0 0]\n",
      "[0 0 0 0 0 0 1 0]\n",
      "[0 0 0 0 0 0 0 0]\n",
      "[0 0 0 0 0 0 0 0]\n",
      "[0 0 0 0 0 0 0 1]\n"
     ]
    }
   ],
   "source": [
    "n=2\n",
    "k=2\n",
    "Sk=SetPartitionsSk(k)\n",
    "transposition=Sk[1]\n",
    "print str(transposition)+\" is identified with the permutation (1 2).\"\n",
    "print \"It can be visualized as: \"\n",
    "partition_to_graph(transposition,k).show(figsize=1.7)\n",
    "print \"Then rho((1 2))=psi((1 2)):\"\n",
    "print psi_local(transposition,n,k)\n",
    "print \"Just to be sure, when n=2,k=3:\"\n",
    "k=3\n",
    "Sk=SetPartitionsSk(k)\n",
    "transposition=Sk[2]\n",
    "print str(transposition)+\" goes to (1 2)\"\n",
    "print \"It can be visualized as: \"\n",
    "partition_to_graph(transposition,k).show(figsize=1.7)\n",
    "print \"And it's representation is: \"\n",
    "print psi_local(transposition,n,k)\n",
    "print \"\"\n",
    "print \"Now for some random old diagram: \"\n",
    "Sk=SetPartitionsPk(k)\n",
    "s=Sk[21]\n",
    "print s\n",
    "print \"It can be visualized as: \"\n",
    "partition_to_graph(s,k).show(figsize=1.7)\n",
    "print \"And it's representation is: \"\n",
    "print psi_local(s,n,k)"
   ]
  },
  {
   "cell_type": "markdown",
   "metadata": {},
   "source": [
    "More exotic examples!"
   ]
  },
  {
   "cell_type": "code",
   "execution_count": 28,
   "metadata": {},
   "outputs": [
    {
     "name": "stdout",
     "output_type": "stream",
     "text": [
      "{{-3, -2, -1, 1}, {2, 3}} from A_k has diagram: \n"
     ]
    },
    {
     "data": {
      "image/png": "[encoded data removed]",
      "text/plain": [
       "Graphics object consisting of 11 graphics primitives"
      ]
     },
     "metadata": {},
     "output_type": "display_data"
    },
    {
     "name": "stdout",
     "output_type": "stream",
     "text": [
      "and it's representation is: \n",
      "[1 0 0 1 0 0 0 0]\n",
      "[0 0 0 0 0 0 0 0]\n",
      "[0 0 0 0 0 0 0 0]\n",
      "[0 0 0 0 0 0 0 0]\n",
      "[0 0 0 0 0 0 0 0]\n",
      "[0 0 0 0 0 0 0 0]\n",
      "[0 0 0 0 0 0 0 0]\n",
      "[0 0 0 0 1 0 0 1]\n",
      "\n",
      "{{-3, 1}, {-2, 2}, {-1, 3}} from B_k has diagram: \n"
     ]
    },
    {
     "data": {
      "image/png": "[encoded data removed]",
      "text/plain": [
       "Graphics object consisting of 10 graphics primitives"
      ]
     },
     "metadata": {},
     "output_type": "display_data"
    },
    {
     "name": "stdout",
     "output_type": "stream",
     "text": [
      "and it's representation is: \n",
      "[1 0 0 0 0 0 0 0]\n",
      "[0 0 0 0 1 0 0 0]\n",
      "[0 0 1 0 0 0 0 0]\n",
      "[0 0 0 0 0 0 1 0]\n",
      "[0 1 0 0 0 0 0 0]\n",
      "[0 0 0 0 0 1 0 0]\n",
      "[0 0 0 1 0 0 0 0]\n",
      "[0 0 0 0 0 0 0 1]\n",
      "\n",
      "{{-3, -2, -1, 1, 2}, {3}} from P_k has diagram: \n"
     ]
    },
    {
     "data": {
      "image/png": "[encoded data removed]",
      "text/plain": [
       "Graphics object consisting of 11 graphics primitives"
      ]
     },
     "metadata": {},
     "output_type": "display_data"
    },
    {
     "name": "stdout",
     "output_type": "stream",
     "text": [
      "and it's representation is: \n",
      "[1 1 0 0 0 0 0 0]\n",
      "[0 0 0 0 0 0 0 0]\n",
      "[0 0 0 0 0 0 0 0]\n",
      "[0 0 0 0 0 0 0 0]\n",
      "[0 0 0 0 0 0 0 0]\n",
      "[0 0 0 0 0 0 0 0]\n",
      "[0 0 0 0 0 0 0 0]\n",
      "[0 0 0 0 0 0 1 1]\n",
      "\n"
     ]
    }
   ],
   "source": [
    "n=2;k=3\n",
    "Ak=SetPartitionsAk(k)\n",
    "Bk=SetPartitionsBk(k)\n",
    "Pk=SetPartitionsPk(k)\n",
    "a=Ak[3]\n",
    "b=Bk[0]\n",
    "p=Pk[1]\n",
    "\n",
    "print str(a) + \" from A_k has diagram: \"\n",
    "partition_to_graph(a,k).show(figsize=2.0)\n",
    "print \"and it's representation is: \"\n",
    "print psi_local(a,n,k)\n",
    "print \"\"\n",
    "\n",
    "print str(b) + \" from B_k has diagram: \"\n",
    "partition_to_graph(b,k).show(figsize=2.0)\n",
    "print \"and it's representation is: \"\n",
    "print psi_local(b,n,k)\n",
    "print \"\"\n",
    "\n",
    "\n",
    "print str(p) + \" from P_k has diagram: \"\n",
    "partition_to_graph(p,k).show(figsize=2.0)\n",
    "print \"and it's representation is: \"\n",
    "print psi_local(p,n,k)\n",
    "print \"\"\n"
   ]
  },
  {
   "cell_type": "markdown",
   "metadata": {},
   "source": [
    "Now, we go on to define $\\psi$ on an arbitrary element of the Brauer algebra."
   ]
  },
  {
   "cell_type": "code",
   "execution_count": 29,
   "metadata": {},
   "outputs": [],
   "source": [
    "def vectorize_element_Bk(s,lst):\n",
    "    vec=zero_vector(QQbar,len(lst))\n",
    "    for i in range(0,len(lst)):\n",
    "        vec[i]=s.coefficient(lst[i])\n",
    "    return vec"
   ]
  },
  {
   "cell_type": "code",
   "execution_count": 30,
   "metadata": {},
   "outputs": [],
   "source": [
    "def psi_Bk(v,n,k):\n",
    "    lst=da.BrauerDiagrams(k).list() #basis\n",
    "    vec=vectorize_element_Bk(v,lst) #coefficient vector\n",
    "    mat=zero_matrix(QQbar,n^k)\n",
    "    for i in range(0,len(lst)):\n",
    "        if vec[i]!=0:\n",
    "            mat+=vec[i]*psi_local(lst[i],n,k)\n",
    "    return mat"
   ]
  },
  {
   "cell_type": "markdown",
   "metadata": {},
   "source": [
    "Let's see what it gets us for a Jucys Murphy element of the algebra!"
   ]
  },
  {
   "cell_type": "code",
   "execution_count": 31,
   "metadata": {
    "scrolled": true
   },
   "outputs": [
    {
     "name": "stdout",
     "output_type": "stream",
     "text": [
      "The element is: \n",
      "-B{{-3, -2}, {-1, 1}, {2, 3}} - B{{-3, -1}, {-2, 2}, {1, 3}} + B{{-3, 1}, {-2, 2}, {-1, 3}} + B{{-3, 2}, {-2, 3}, {-1, 1}} + 1/2*B{{-3, 3}, {-2, 2}, {-1, 1}}\n",
      "It's action on V is: \n",
      "[1/2   0   0  -1   0  -1   0   0]\n",
      "[  0 1/2   1   0   1   0   0   0]\n",
      "[  0   1 1/2   0   0   0   0  -1]\n",
      "[ -1   0   0 1/2   0   0   1   0]\n",
      "[  0   1   0   0 1/2   0   0  -1]\n",
      "[ -1   0   0   0   0 1/2   1   0]\n",
      "[  0   0   0   1   0   1 1/2   0]\n",
      "[  0   0  -1   0  -1   0   0 1/2]\n"
     ]
    }
   ],
   "source": [
    "k=3\n",
    "n=2\n",
    "Bk_alg=BrauerAlgebra(k,n,QQbar)\n",
    "v=Bk_alg.jucys_murphy(3)\n",
    "print \"The element is: \"\n",
    "print v\n",
    "print \"It's action on V is: \"\n",
    "print psi_Bk(v,n,k)"
   ]
  },
  {
   "cell_type": "markdown",
   "metadata": {},
   "source": [
    "The Jucys-Murphy elements give us a means to calculate the idempotents of a multiplicity-free family of unital algebras. Therefore, knowing the Jucys-Murphy elements and the combinatorics behind the Induction and Restriction operations on the family gives us a recursive formula for the idempotents of the irreducible representations of $B_k(z)$. Our methods closely follow those of Doty, Lauve, and Seelinger https://arxiv.org/pdf/1606.08900.pdf, and we refer their paper to the reader to review before proceeding further.\n",
    "\n",
    "Let $\\lambda$ be in the indexing set for the irreps of $B_k(z)$, $Tab(k)$. Let $\\mu$ be in the indexing set for the irreps of $B_{k-1}(z)$, $Tab(k-1)$. The Jucys-Murphy sequence $(J_0,J_1,...,J_k)$ can be seen as elements in $B_k(z)$ by inclusion. \n",
    "\n",
    "If $T=(\\lambda_0,...,\\lambda_k=\\lambda)$ corresponds to the Gelfand-Tsetlin basis element $v_T$, and $S=(\\mu_0,...,\\mu_k)$ corresponds to $v_S$, we define:\n",
    "\n",
    "$$c_T(k)=\\begin{cases}j-i & \\text{if } \\lambda_k \\text{ has one more box than than } \\lambda_{k-1}\\\\\n",
    "(1-z)+i-j & \\text{if } \\lambda_k \\text{ has one less box than than } \\lambda_{k-1}\\\\\n",
    "\\end{cases}$$\n",
    "\n",
    "The Gelfand-Tsetlin basis for $B_k(z)^\\lambda$ is the set $\\{v_T~:~T\\in Tab(k)\\}$. For $T=(\\lambda_0,...,\\lambda_k)$, the truncation is the element $\\bar{T}=(\\lambda_0,...,\\lambda_{k-1})\\in Tab(k-1)$. We define the interpolating polynomial as: \n",
    "\n",
    "$$P_T(x)=\\prod_{S\\in Tab(k)\\\\~~~S\\neq T\\\\~~~\\bar{S}=\\bar{T}}\\frac{x-c_S(k)}{c_T(k)-c_S(k)}$$\n",
    "\n",
    "We usually use the notation $P_{\\mu}^{\\lambda}$ to denote that this function really only depends on the $\\mu$'s for which $\\mu=\\lambda_{n-1}$ (we say then that $\\mu\\vdash \\lambda$). Finally, we obtain a recursive formula for the idempotent of $\\lambda$ as:\n",
    "\n",
    "$$e_\\lambda=\\sum_{~~\\mu\\\\\\mu\\vdash\\lambda}P_\\mu^\\lambda(J_k)e_\\mu$$\n",
    "\n",
    "In general, the sum $z_k=J_1+...+J_k$ is in the center of $B_k(z)$ and it acts diagonally on $B_k(z)^\\lambda$. The $T$ content of $J_k$ is the $\\mathbb{C}$ vector $(c_T(1),...,c_T(k))$, where $J_m\\cdot v_T=c_T(m)v_T$. This can be shown pretty straightforwardly, since $J_m=z_m-z_{m-1}$ and $v_{T}=v_{\\bar{T}}$. Therefore, for $\\mu$ with $\\mu=\\lambda_{k-1}$, $z_{k}\\cdot v_T=a_\\lambda v_T$ and $z_{k-1}\\cdot v_T=a_\\mu v_T$ and it follow that $c_T(k)=a_\\lambda-a_\\mu$.\n",
    "\n",
    "In order to make this work, we need a Jucys-Murphy sequence that agrees with the $T$ content. We will follow the cue of Stephen Doty, Aaron Lauve, AND George H. Seelinger (https://arxiv.org/pdf/1606.08900.pdf) and define our sequence as follows:\n",
    "\n",
    "$$J_k=\\sum_{i=1}^{k-1}[(i~k)-\\overline{(i~k)} ]$$\n",
    "\n",
    "with $J_1=0$, $(i~k)=\\{\\{1,-1\\},...,\\{i,-k\\},\\{i+1,-(i+1)\\},...,\\{k,-i\\} \\}$, the standard transposition, and $\\overline{(i~k)}=\\{\\{1,-1\\},...,\\{i,k\\},\\{-i,-k\\},\\{i+1,-(i+1)\\},...,\\{k-1,-(k-1)\\} \\}$, the cap-cup.\n",
    "\n",
    "For example:"
   ]
  },
  {
   "cell_type": "code",
   "execution_count": 32,
   "metadata": {},
   "outputs": [
    {
     "name": "stdout",
     "output_type": "stream",
     "text": [
      "{{-4, 4}, {-3, -1}, {-2, 2}, {1, 3}}\n",
      "The element (1 3) in B_4(z) is: \n",
      "{{-4, 4}, {-3, 1}, {-2, 2}, {-1, 3}}\n"
     ]
    },
    {
     "data": {
      "image/png": "[encoded data removed]",
      "text/plain": [
       "Graphics object consisting of 13 graphics primitives"
      ]
     },
     "metadata": {},
     "output_type": "display_data"
    },
    {
     "name": "stdout",
     "output_type": "stream",
     "text": [
      "The cap-cup version of (1 3) is:\n",
      "{{-4, 4}, {-3, -1}, {-2, 2}, {1, 3}}\n"
     ]
    },
    {
     "data": {
      "image/png": "[encoded data removed]",
      "text/plain": [
       "Graphics object consisting of 13 graphics primitives"
      ]
     },
     "metadata": {},
     "output_type": "display_data"
    }
   ],
   "source": [
    "k=4\n",
    "Sk=SetPartitionsBk(k)\n",
    "s=Sk[45]\n",
    "d=Sk[58]\n",
    "print d\n",
    "print \"The element (1 3) in B_4(z) is: \"\n",
    "print s\n",
    "partition_to_graph(s,k).show(figsize=2.2)\n",
    "print \"The cap-cup version of (1 3) is:\"\n",
    "print d\n",
    "partition_to_graph(d,k).show(figsize=2.5)\n"
   ]
  },
  {
   "cell_type": "markdown",
   "metadata": {},
   "source": [
    "Now let's work out a function that gives us the Jucys-Murphy elements we want. People have already implemented Jucys-Murphy elements for the Brauer algebra in SAGE, but they differ from the ones we want by $\\frac{z-1}{2}$. "
   ]
  },
  {
   "cell_type": "code",
   "execution_count": 33,
   "metadata": {},
   "outputs": [],
   "source": [
    "def our_jucys_murphy(n,k,z,R=QQbar):\n",
    "    Bk=BrauerAlgebra(k,z,R)\n",
    "    assert(n<=k)\n",
    "    s=Bk.jucys_murphy(n)\n",
    "    z=s-((z-1)/2)\n",
    "    return z"
   ]
  },
  {
   "cell_type": "markdown",
   "metadata": {},
   "source": [
    "The business with the boxes lets us interpret $Tab(k)$ as a set of integer partitions, i.e. $[3,1,1]$ corresponds to:"
   ]
  },
  {
   "cell_type": "code",
   "execution_count": 34,
   "metadata": {},
   "outputs": [
    {
     "name": "stdout",
     "output_type": "stream",
     "text": [
      "***\n",
      "*\n",
      "*\n"
     ]
    }
   ],
   "source": [
    "p=Partition([3,1,1])\n",
    "p.pp()"
   ]
  },
  {
   "cell_type": "markdown",
   "metadata": {},
   "source": [
    "The pair $(i,j)$ is the (row,column) location of a box (in our case asterisk) in the partition. The content of a box is the value $j-i$. We can print the contents like this:"
   ]
  },
  {
   "cell_type": "code",
   "execution_count": 35,
   "metadata": {},
   "outputs": [
    {
     "name": "stdout",
     "output_type": "stream",
     "text": [
      "*****\n",
      "****\n",
      "***\n",
      "**\n",
      "*\n",
      "  0  1  2  3  4\n",
      " -1  0  1  2\n",
      " -2 -1  0\n",
      " -3 -2\n",
      " -4\n"
     ]
    }
   ],
   "source": [
    "p=Partition([5,4,3,2,1])\n",
    "p.pp()\n",
    "p.contents_tableau().pp()"
   ]
  },
  {
   "cell_type": "markdown",
   "metadata": {},
   "source": [
    "The contents of boxes added or removed becomes a vital part of how we understand the action of the Jucys-Murphy elements on the GT basis of our algebra. Let us first try and understand what the simple subalgebras of $B_k(z)$ look like. We assume that either $z>k$ when $z$ is an integer, or $z\\in \\mathbb{C}\\backslash \\mathbb{Z}$ so that $B_k(z)=B_k$ is semisimple.\n",
    "\n",
    "It can be shown for example that the set of irreducible representations are indexed by the following partitions:\n",
    "\n",
    "$$Irr(k)=\\{\\lambda~:~\\lambda\\vdash (k-2l),~~~~0\\leq2l\\leq k \\} $$.\n",
    "\n",
    "We understand $\\lambda\\vdash (k-2l)$ to mean that the partition sums up to $k-2l$, e.g. $[2]$ is in $Irr(4)$ because it sums up to $2=4-2$, but $[1,1,1]$ is not because its sum is $3\\neq 4-2l$. Let's create a function that returns a list of such partitions:"
   ]
  },
  {
   "cell_type": "code",
   "execution_count": 36,
   "metadata": {},
   "outputs": [],
   "source": [
    "def list_of_brauer_irreducibles(k):\n",
    "    if k==0:\n",
    "        return [Partition([])]\n",
    "    lst=[]\n",
    "    possible_sums=[]\n",
    "    \n",
    "    for w in range(0,k+1):\n",
    "        if w%2==0: #even\n",
    "            possible_sums.append(k-w)\n",
    "    for x in possible_sums:\n",
    "        for y in Partitions(x):\n",
    "            lst=[y]+lst\n",
    "    return lst"
   ]
  },
  {
   "cell_type": "markdown",
   "metadata": {},
   "source": [
    "And to draw them out:"
   ]
  },
  {
   "cell_type": "code",
   "execution_count": 37,
   "metadata": {},
   "outputs": [],
   "source": [
    "def partition_to_figure_list(p):\n",
    "    lst=[]\n",
    "    i=0\n",
    "    for y in p:\n",
    "        for z in range(0,y):\n",
    "            lst+=[polygon2d([[z,i],[z+1,i],[z+1,i+1],[z,i+1]],edgecolor='black',fill=False)]\n",
    "        i=i-1\n",
    "    return lst"
   ]
  },
  {
   "cell_type": "code",
   "execution_count": 38,
   "metadata": {},
   "outputs": [],
   "source": [
    "def plot_partition_figure_list(lst):\n",
    "    plotlst=[]\n",
    "    for x in lst:\n",
    "        plotlst+=[plot(x)]\n",
    "    show(sum(plotlst),axes=False,figsize=1.2)"
   ]
  },
  {
   "cell_type": "code",
   "execution_count": 39,
   "metadata": {},
   "outputs": [
    {
     "data": {
      "image/png": "[encoded data removed]",
      "text/plain": [
       "Graphics object consisting of 6 graphics primitives"
      ]
     },
     "metadata": {},
     "output_type": "display_data"
    }
   ],
   "source": [
    "x=Partition([3,2,1])\n",
    "plot_partition_figure_list(partition_to_figure_list(x))"
   ]
  },
  {
   "cell_type": "markdown",
   "metadata": {},
   "source": [
    "Now all of the $k^{th}$ irreps can be viewed as:"
   ]
  },
  {
   "cell_type": "code",
   "execution_count": 40,
   "metadata": {},
   "outputs": [
    {
     "data": {
      "image/png": "[encoded data removed]",
      "text/plain": [
       "Graphics object consisting of 1 graphics primitive"
      ]
     },
     "metadata": {},
     "output_type": "display_data"
    },
    {
     "data": {
      "image/png": "[encoded data removed]",
      "text/plain": [
       "Graphics object consisting of 3 graphics primitives"
      ]
     },
     "metadata": {},
     "output_type": "display_data"
    },
    {
     "data": {
      "image/png": "[encoded data removed]",
      "text/plain": [
       "Graphics object consisting of 3 graphics primitives"
      ]
     },
     "metadata": {},
     "output_type": "display_data"
    },
    {
     "data": {
      "image/png": "[encoded data removed]",
      "text/plain": [
       "Graphics object consisting of 3 graphics primitives"
      ]
     },
     "metadata": {},
     "output_type": "display_data"
    }
   ],
   "source": [
    "for x in list_of_brauer_irreducibles(3):\n",
    "    plot_partition_figure_list(partition_to_figure_list(x))"
   ]
  },
  {
   "cell_type": "markdown",
   "metadata": {},
   "source": [
    "The empty partition $[]$ will appear as a 0. One could use these objects as vertices, and program a Bratelli Diagram as a graph, which would help in understanding the GT basis for each irreducible representation. But for our purposes, we will focus namely on computing idempotents. We will view elements of the GT basis as $k+1$ vectors of partitions $T=(\\lambda_0,...,\\lambda_k)$. Let us begin by defining $c_T(k)$:"
   ]
  },
  {
   "cell_type": "code",
   "execution_count": 41,
   "metadata": {},
   "outputs": [],
   "source": [
    "def T_content_at_k(T,k,z):\n",
    "    M=Set(T[k].cells())\n",
    "    N=Set(T[k-1].cells())\n",
    "    if T[k].size()>T[k-1].size():\n",
    "        O=M.difference(N)\n",
    "        return ZZ(O[0][0])-ZZ(O[0][1])\n",
    "    else:\n",
    "        O=N.difference(M)\n",
    "        return ZZ(O[0][1])-ZZ(O[0][0])+1-z"
   ]
  },
  {
   "cell_type": "markdown",
   "metadata": {},
   "source": [
    "Let's look at both cases:"
   ]
  },
  {
   "cell_type": "code",
   "execution_count": 42,
   "metadata": {},
   "outputs": [
    {
     "name": "stdout",
     "output_type": "stream",
     "text": [
      "2\n"
     ]
    }
   ],
   "source": [
    "k=3\n",
    "T={}\n",
    "T[k]=Partition([3,2,1])\n",
    "T[k-1]=Partition([3,2])\n",
    "print T_content_at_k(T,k,0)"
   ]
  },
  {
   "cell_type": "markdown",
   "metadata": {},
   "source": [
    "The content of the box missing! Now if instead we look at $T[k]=[3,2]$ and $T[k-1]=[3,2,1]$, $\\lambda_k$ has one less box than $\\lambda_{k-1}$, the box at $(i,j)=(2,0)$. Let $z=0$, then $c_T(k)=1-z+i-j=1-0+2-0=3$. Let's see if it worked."
   ]
  },
  {
   "cell_type": "code",
   "execution_count": 43,
   "metadata": {},
   "outputs": [
    {
     "name": "stdout",
     "output_type": "stream",
     "text": [
      "-1\n"
     ]
    }
   ],
   "source": [
    "T={}\n",
    "T[k]=Partition([3,2])\n",
    "T[k-1]=Partition([3,2,1])\n",
    "print T_content_at_k(T,k,0)"
   ]
  },
  {
   "cell_type": "markdown",
   "metadata": {},
   "source": [
    "Now given a partition $\\lambda_k$, how do we get the list of partitions $\\mu$ such that $\\mu$ can have a box added or removed to become $\\lambda_k$? Well, we already know what partitions are available at the level $k-1$!"
   ]
  },
  {
   "cell_type": "code",
   "execution_count": 44,
   "metadata": {},
   "outputs": [],
   "source": [
    "def permissible_paths_to_partition(P,k):\n",
    "    assert(P in list_of_brauer_irreducibles(k))\n",
    "    lst=[]\n",
    "    box_num=len(P.cells())\n",
    "    for x in list_of_brauer_irreducibles(k-1):\n",
    "        if abs(len(x.cells())-box_num)==1:\n",
    "            lst+=[x]\n",
    "    new_lst=[]\n",
    "    for x in lst:\n",
    "        if box_num-len(x.cells())==1:\n",
    "            for y in P.cells():\n",
    "                if y in x.addable_cells():\n",
    "                    if x.add_cell(y[0])==P:\n",
    "                        new_lst+=[x]\n",
    "        elif box_num-len(x.cells())==-1:\n",
    "            for y in x.cells():\n",
    "                if y in x.removable_cells():\n",
    "                    if x.remove_cell(y[0])==P:\n",
    "                        new_lst+=[x]\n",
    "    return new_lst"
   ]
  },
  {
   "cell_type": "code",
   "execution_count": null,
   "metadata": {},
   "outputs": [],
   "source": []
  },
  {
   "cell_type": "code",
   "execution_count": 45,
   "metadata": {},
   "outputs": [
    {
     "data": {
      "image/png": "[encoded data removed]",
      "text/plain": [
       "Graphics object consisting of 4 graphics primitives"
      ]
     },
     "metadata": {},
     "output_type": "display_data"
    },
    {
     "data": {
      "image/png": "[encoded data removed]",
      "text/plain": [
       "Graphics object consisting of 3 graphics primitives"
      ]
     },
     "metadata": {},
     "output_type": "display_data"
    },
    {
     "data": {
      "image/png": "[encoded data removed]",
      "text/plain": [
       "Graphics object consisting of 3 graphics primitives"
      ]
     },
     "metadata": {},
     "output_type": "display_data"
    }
   ],
   "source": [
    "d=Partition([3,1])\n",
    "plot_partition_figure_list(partition_to_figure_list(d))\n",
    "for x in permissible_paths_to_partition(d,4):\n",
    "    plot_partition_figure_list(partition_to_figure_list(x))"
   ]
  },
  {
   "cell_type": "code",
   "execution_count": null,
   "metadata": {},
   "outputs": [],
   "source": []
  },
  {
   "cell_type": "markdown",
   "metadata": {},
   "source": [
    "In order to get a list for the GT basis, we need to recursively find all possible paths. We employ the use of a global list variable,GT_basis, to keep track of the paths, and a recursive Depth-First Search algorithm to do so. We pass a list and an integer every time in order to add this new partition to the list.\n",
    "\n",
    "It is important to always initialize GT_basis with GT_basis=[] before running this function. Otherwise, it will just keep adding paths."
   ]
  },
  {
   "cell_type": "code",
   "execution_count": 46,
   "metadata": {},
   "outputs": [],
   "source": [
    "def GelfandTsetlinBasis(P,k,GT_basis,path=[]):\n",
    "    path+=[P]\n",
    "    if k==0:\n",
    "        GT_basis.append(list(path)) \n",
    "        #python passes a list by reference,\n",
    "        #so we use list() to create a new one\n",
    "    branches=permissible_paths_to_partition(P,k)\n",
    "    for x in branches:\n",
    "        GelfandTsetlinBasis(x,k-1,GT_basis,path)\n",
    "    path.pop(len(path)-1)"
   ]
  },
  {
   "cell_type": "markdown",
   "metadata": {},
   "source": [
    "Just in case any duplicates arise, let's define a function to take care of that! And let's look at an example."
   ]
  },
  {
   "cell_type": "code",
   "execution_count": 47,
   "metadata": {},
   "outputs": [],
   "source": [
    "def list_of_tableaus_to_partition(P,k):\n",
    "    GT_list=[]\n",
    "    GelfandTsetlinBasis(P,k,GT_list,[])\n",
    "    GT_basis=[]\n",
    "    for x in GT_list:\n",
    "        x.reverse() # read paths to start at level k=0\n",
    "    for x in GT_list: # gets rid of duplicates\n",
    "        if x not in GT_basis:\n",
    "            GT_basis.append(x)\n",
    "    return GT_basis\n",
    "    "
   ]
  },
  {
   "cell_type": "markdown",
   "metadata": {},
   "source": [
    "As an example:"
   ]
  },
  {
   "cell_type": "code",
   "execution_count": 48,
   "metadata": {},
   "outputs": [
    {
     "data": {
      "image/png": "[encoded data removed]",
      "text/plain": [
       "Graphics object consisting of 5 graphics primitives"
      ]
     },
     "metadata": {},
     "output_type": "display_data"
    },
    {
     "data": {
      "text/plain": [
       "[[[], [1], [1, 1], [2, 1], [2, 2], [3, 2]],\n",
       " [[], [1], [2], [2, 1], [2, 2], [3, 2]],\n",
       " [[], [1], [1, 1], [2, 1], [3, 1], [3, 2]],\n",
       " [[], [1], [2], [2, 1], [3, 1], [3, 2]],\n",
       " [[], [1], [2], [3], [3, 1], [3, 2]]]"
      ]
     },
     "execution_count": 48,
     "metadata": {},
     "output_type": "execute_result"
    }
   ],
   "source": [
    "d=Partition([3,2])\n",
    "plot_partition_figure_list(partition_to_figure_list(d))\n",
    "list_of_tableaus_to_partition(d,5)"
   ]
  },
  {
   "cell_type": "markdown",
   "metadata": {},
   "source": [
    "Let $T$ be a tableau of $k+1$ partitions, and $T_i$ correspond to its truncation taken $k-i$ times. This way $T_k=T$, and $T_0=(\\lambda_0)$. We use $T[k]$ to denote the partition entry of the tableau at the k^{th} level. Then the idempotent of the Gelfand-Tsetlin vector $v_T$ in the algebra corresponding to the partition $T[k]$ is given as:\n",
    "\n",
    "$$e_T=\\prod_{i=1}^k P_{T_i}(J_{i})$$,\n",
    "\n",
    "where $J_i$ is the $i^{th}$ Jucys-Murphy element. The idempotent then corresponding to the partition $T[k]$ is given as:\n",
    "\n",
    "$$e_{T[k]}=\\sum_{T\\in Tab(k)}e_T$$\n",
    "\n",
    "Let's try and program a way to truncate tableaus:"
   ]
  },
  {
   "cell_type": "code",
   "execution_count": 49,
   "metadata": {},
   "outputs": [],
   "source": [
    "def truncate_tableau(T,k,i):\n",
    "    #take a tableau at the k^{th} level and truncate it k-i times\n",
    "    S=[]\n",
    "    S=list(T)\n",
    "    if i == k:\n",
    "        return S\n",
    "    for p in range(0,k-i):\n",
    "        S.pop()\n",
    "    return S"
   ]
  },
  {
   "cell_type": "markdown",
   "metadata": {},
   "source": [
    "Now to define the interpolating polynomial given a tableau T with k+1 entries:"
   ]
  },
  {
   "cell_type": "code",
   "execution_count": 50,
   "metadata": {},
   "outputs": [],
   "source": [
    "def interpolating_polynomial(x,T,k,z):\n",
    "    assert(T[k] in list_of_brauer_irreducibles(k))\n",
    "    Bk_alg=BrauerAlgebra(k,z,QQbar)\n",
    "    iden=Bk_alg.one()\n",
    "    val=iden\n",
    "    if k==0:\n",
    "        return val\n",
    "    lst=[]\n",
    "    brauer_irred_lst=list_of_brauer_irreducibles(k)\n",
    "    for t in brauer_irred_lst:\n",
    "        tmp_lst=list_of_tableaus_to_partition(t,k)\n",
    "        for y in tmp_lst:\n",
    "            lst.append(y)\n",
    "    lst.remove(T)\n",
    "    truncatedT=truncate_tableau(T,k,k-1)\n",
    "    new_lst=[]\n",
    "    for S in lst:\n",
    "        truncatedS=truncate_tableau(S,k,k-1)\n",
    "        if truncatedS==truncatedT and T!=S:\n",
    "            new_lst.append(S)\n",
    "    if len(new_lst)==0:\n",
    "        return iden\n",
    "    c_T=T_content_at_k(T,k,z)\n",
    "    for S in new_lst:\n",
    "        c_S=T_content_at_k(S,k,z)\n",
    "        new_val=(x-c_S*iden)*((1/(c_T-c_S))*iden)\n",
    "        val=val*new_val\n",
    "    return val"
   ]
  },
  {
   "cell_type": "code",
   "execution_count": 51,
   "metadata": {},
   "outputs": [
    {
     "name": "stdout",
     "output_type": "stream",
     "text": [
      "The element we want to pass through P_T:\n",
      "-B{{-4, 4}, {-3, -2}, {-1, 1}, {2, 3}} - B{{-4, 4}, {-3, -1}, {-2, 2}, {1, 3}} + B{{-4, 4}, {-3, 1}, {-2, 2}, {-1, 3}} + B{{-4, 4}, {-3, 2}, {-2, 3}, {-1, 1}} + 9/2*B{{-4, 4}, {-3, 3}, {-2, 2}, {-1, 1}}\n",
      "The T we are going to use to do it:\n",
      "[[], [1], [1, 1], [2, 1], [2, 2]]\n",
      "The final result:\n",
      "139/80*B{{-4, 4}, {-3, -2}, {-1, 1}, {2, 3}} - 11/128*B{{-4, 4}, {-3, -2}, {-1, 2}, {1, 3}} + 419/640*B{{-4, 4}, {-3, -2}, {-1, 3}, {1, 2}} - 11/128*B{{-4, 4}, {-3, -1}, {-2, 1}, {2, 3}} + 139/80*B{{-4, 4}, {-3, -1}, {-2, 2}, {1, 3}} + 419/640*B{{-4, 4}, {-3, -1}, {-2, 3}, {1, 2}} + 419/640*B{{-4, 4}, {-3, 1}, {-2, -1}, {2, 3}} - 1089/160*B{{-4, 4}, {-3, 1}, {-2, 2}, {-1, 3}} - 891/640*B{{-4, 4}, {-3, 1}, {-2, 3}, {-1, 2}} + 419/640*B{{-4, 4}, {-3, 2}, {-2, -1}, {1, 3}} - 891/640*B{{-4, 4}, {-3, 2}, {-2, 1}, {-1, 3}} - 1089/160*B{{-4, 4}, {-3, 2}, {-2, 3}, {-1, 1}} + 27/160*B{{-4, 4}, {-3, 3}, {-2, -1}, {1, 2}} - 9/40*B{{-4, 4}, {-3, 3}, {-2, 1}, {-1, 2}} - 61317/5120*B{{-4, 4}, {-3, 3}, {-2, 2}, {-1, 1}}\n",
      "In vector form:\n",
      "(0, 0, 0, 0, 0, 0, 0, 0, 0, 0, 0, 0, 0, 0, 0, 0, 0, 0, 0, 0, 0, 0, 0, 0, 0, 0, 0, 0, 0, 0, 0, 0, 0, 0, 0, 0, 0, 0, 0, 0, 0, 0, 0, 0, 0, -1089/160, -891/640, 419/640, -891/640, -1089/160, 419/640, -9/40, -61317/5120, 27/160, 139/80, -11/128, 419/640, -11/128, 139/80, 419/640, 0, 0, 0, 0, 0, 0, 0, 0, 0, 0, 0, 0, 0, 0, 0, 0, 0, 0, 0, 0, 0, 0, 0, 0, 0, 0, 0, 0, 0, 0, 0, 0, 0, 0, 0, 0, 0, 0, 0, 0, 0, 0, 0, 0, 0)\n"
     ]
    }
   ],
   "source": [
    "k=4\n",
    "z=10\n",
    "Bk_alg=BrauerAlgebra(k,z,QQbar)\n",
    "elem=Bk_alg.jucys_murphy(3)\n",
    "iden=Bk_alg.one()\n",
    "print \"The element we want to pass through P_T:\"\n",
    "print elem\n",
    "lst=list_of_tableaus_to_partition(Partition([2,2]),4)\n",
    "print \"The T we are going to use to do it:\"\n",
    "vec=lst[0]\n",
    "print vec\n",
    "print \"The final result:\"\n",
    "print interpolating_polynomial(elem,vec,k,z)\n",
    "print \"In vector form:\"\n",
    "print vectorize_element_Bk(interpolating_polynomial(elem,vec,k,z),SetPartitionsBk(k).list())"
   ]
  },
  {
   "cell_type": "markdown",
   "metadata": {},
   "source": [
    "Before we can begin multiplying elements in $B_{k-i}$ with those in $B_k$, we need to find a way to inject one into another. Otherwise, we will turn up an error. The injection is pretty simple. If $v$ is in $B_{k-i}$, then every diagram of $v$ is passed into a diagram of rank $k$ by adding the pairs $\\{(k-i+1),-(k-i+1)\\},...,\\{k,-k\\}$."
   ]
  },
  {
   "cell_type": "code",
   "execution_count": 52,
   "metadata": {},
   "outputs": [],
   "source": [
    "def inject_kminusi_into_k_local(d,k,i):\n",
    "    lst=[]\n",
    "    for x in d:\n",
    "        lst+=[x]\n",
    "    Bk=da.BrauerDiagrams(k)\n",
    "    for x in range(k-i+1,k+1):\n",
    "        lst+=[(-x,x)]\n",
    "    return Bk(Set(lst))"
   ]
  },
  {
   "cell_type": "markdown",
   "metadata": {},
   "source": [
    "Now we define it for arbitrary algebra elements:"
   ]
  },
  {
   "cell_type": "code",
   "execution_count": 53,
   "metadata": {},
   "outputs": [],
   "source": [
    "def inject_kminusi_into_k(v,k,i,z):\n",
    "    Bk_alg=BrauerAlgebra(k,z,QQbar)\n",
    "    val=Bk_alg.zero()\n",
    "    kminusibasis=da.BrauerDiagrams(k-i).list()\n",
    "    kminusivec=vectorize_element_Bk(v,kminusibasis)\n",
    "    for y in range(0,len(kminusibasis)):\n",
    "        if kminusivec[y]!=0:\n",
    "            val+=kminusivec[y]*Bk_alg(inject_kminusi_into_k_local(kminusibasis[y],k,i))\n",
    "    return val"
   ]
  },
  {
   "cell_type": "markdown",
   "metadata": {},
   "source": [
    "And test to see if it works:"
   ]
  },
  {
   "cell_type": "code",
   "execution_count": 54,
   "metadata": {},
   "outputs": [
    {
     "name": "stdout",
     "output_type": "stream",
     "text": [
      "-B{{-2, -1}, {1, 2}} + B{{-2, 1}, {-1, 2}} + 2*B{{-2, 2}, {-1, 1}}\n"
     ]
    },
    {
     "data": {
      "text/plain": [
       "-B{{-4, 4}, {-3, 3}, {-2, -1}, {1, 2}} + B{{-4, 4}, {-3, 3}, {-2, 1}, {-1, 2}} + 2*B{{-4, 4}, {-3, 3}, {-2, 2}, {-1, 1}}"
      ]
     },
     "execution_count": 54,
     "metadata": {},
     "output_type": "execute_result"
    }
   ],
   "source": [
    "k=4\n",
    "i=2\n",
    "z=5\n",
    "Bk_alg=BrauerAlgebra(k,z)\n",
    "Bkminusi_alg=BrauerAlgebra(k-i,z)\n",
    "elem=Bkminusi_alg.jucys_murphy(2)\n",
    "print elem\n",
    "kminusibasis=da.BrauerDiagrams(k-i).list()\n",
    "Bk=da.BrauerDiagrams(k)\n",
    "inject_kminusi_into_k(elem,k,i,z)"
   ]
  },
  {
   "cell_type": "markdown",
   "metadata": {},
   "source": [
    "The idempotent of a tableau can be acquired as:\n",
    "\n",
    "$$e_T=\\prod_{i=1}^{k}P_{T[i]}(J_i)$$"
   ]
  },
  {
   "cell_type": "code",
   "execution_count": 55,
   "metadata": {},
   "outputs": [],
   "source": [
    "def idempotent_of_tableau_at_k(T,k,z):\n",
    "    Bk_alg=BrauerAlgebra(k,z,QQbar)\n",
    "    J={}\n",
    "    prod=Bk_alg.one()\n",
    "    if k==0:\n",
    "        return prod\n",
    "    for y in range(1,k+1):\n",
    "        J[y]=our_jucys_murphy(y,y,z)\n",
    "    F=[]\n",
    "    F=list(T)\n",
    "    for j in range(0,k):\n",
    "        val=interpolating_polynomial(J[k-j],F,k-j,z)\n",
    "        F=truncate_tableau(F,k,k-1)\n",
    "        new_val=inject_kminusi_into_k(val,k,j,z)\n",
    "        prod=new_val*prod\n",
    "    return prod\n",
    "        "
   ]
  },
  {
   "cell_type": "markdown",
   "metadata": {},
   "source": [
    "The idempotent of a partition $T[k]$ is then the sum:\n",
    "\n",
    "$$e_{T[k]}=\\sum_{~~~S\\in \\text{Irr}(k)\\\\ ~~~S[k]=T[k] }e_S$$"
   ]
  },
  {
   "cell_type": "code",
   "execution_count": 56,
   "metadata": {},
   "outputs": [],
   "source": [
    "def idempotent_of_partition_at_k(P,k,z):\n",
    "    Bk_alg=BrauerAlgebra(k,z,QQbar)\n",
    "    val_sum=Bk_alg.zero()\n",
    "    basis=da.BrauerDiagrams(k)\n",
    "    if k==0:\n",
    "        return Bk_alg.one()\n",
    "    lst=list_of_tableaus_to_partition(P,k)\n",
    "    for x in lst:\n",
    "        idempotent_of_x=idempotent_of_tableau_at_k(x,k,z)\n",
    "        val_sum+=idempotent_of_x\n",
    "    return val_sum"
   ]
  },
  {
   "cell_type": "markdown",
   "metadata": {},
   "source": [
    "Lastly, we check if these are indeed the primitive, central, mutually orthogonal idempotents we seek!\n",
    "We must have that:\n",
    "\n",
    "1. $e_Te_S=0$ for $T\\neq S$\n",
    "2. $e_T^2=e_T$ for all $T$\n",
    "3. $\\sum e_T=1$\n",
    "\n",
    "This chunk of code will test for all of that:"
   ]
  },
  {
   "cell_type": "code",
   "execution_count": 57,
   "metadata": {},
   "outputs": [
    {
     "name": "stdout",
     "output_type": "stream",
     "text": [
      "Testing the partition:\n"
     ]
    },
    {
     "data": {
      "text/html": [
       "<html><script type=\"math/tex; mode=display\">\\newcommand{\\Bold}[1]{\\mathbf{#1}}0</script></html>"
      ],
      "text/plain": [
       "0"
      ]
     },
     "metadata": {},
     "output_type": "display_data"
    },
    {
     "name": "stdout",
     "output_type": "stream",
     "text": [
      "Is e_T^2=e_T?\n",
      "Yes!\n",
      "Is it mutually orthogonal with the rest?\n",
      "Yes!\n",
      "Testing the partition:\n"
     ]
    },
    {
     "data": {
      "image/png": "[encoded data removed]",
      "text/plain": [
       "Graphics object consisting of 2 graphics primitives"
      ]
     },
     "metadata": {},
     "output_type": "display_data"
    },
    {
     "name": "stdout",
     "output_type": "stream",
     "text": [
      "Is e_T^2=e_T?\n",
      "Yes!\n",
      "Is it mutually orthogonal with the rest?\n",
      "Yes!\n",
      "Testing the partition:\n"
     ]
    },
    {
     "data": {
      "image/png": "[encoded data removed]",
      "text/plain": [
       "Graphics object consisting of 2 graphics primitives"
      ]
     },
     "metadata": {},
     "output_type": "display_data"
    },
    {
     "name": "stdout",
     "output_type": "stream",
     "text": [
      "Is e_T^2=e_T?\n",
      "Yes!\n",
      "Is it mutually orthogonal with the rest?\n",
      "Yes!\n",
      "Testing the partition:\n"
     ]
    },
    {
     "data": {
      "image/png": "[encoded data removed]",
      "text/plain": [
       "Graphics object consisting of 4 graphics primitives"
      ]
     },
     "metadata": {},
     "output_type": "display_data"
    },
    {
     "name": "stdout",
     "output_type": "stream",
     "text": [
      "Is e_T^2=e_T?\n",
      "Yes!\n",
      "Is it mutually orthogonal with the rest?\n",
      "Yes!\n",
      "Testing the partition:\n"
     ]
    },
    {
     "data": {
      "image/png": "[encoded data removed]",
      "text/plain": [
       "Graphics object consisting of 4 graphics primitives"
      ]
     },
     "metadata": {},
     "output_type": "display_data"
    },
    {
     "name": "stdout",
     "output_type": "stream",
     "text": [
      "Is e_T^2=e_T?\n",
      "Yes!\n",
      "Is it mutually orthogonal with the rest?\n",
      "Yes!\n",
      "Testing the partition:\n"
     ]
    },
    {
     "data": {
      "image/png": "[encoded data removed]",
      "text/plain": [
       "Graphics object consisting of 4 graphics primitives"
      ]
     },
     "metadata": {},
     "output_type": "display_data"
    },
    {
     "name": "stdout",
     "output_type": "stream",
     "text": [
      "Is e_T^2=e_T?\n",
      "Yes!\n",
      "Is it mutually orthogonal with the rest?\n",
      "Yes!\n",
      "Testing the partition:\n"
     ]
    },
    {
     "data": {
      "image/png": "[encoded data removed]",
      "text/plain": [
       "Graphics object consisting of 4 graphics primitives"
      ]
     },
     "metadata": {},
     "output_type": "display_data"
    },
    {
     "name": "stdout",
     "output_type": "stream",
     "text": [
      "Is e_T^2=e_T?\n",
      "Yes!\n",
      "Is it mutually orthogonal with the rest?\n",
      "Yes!\n",
      "Testing the partition:\n"
     ]
    },
    {
     "data": {
      "image/png": "[encoded data removed]",
      "text/plain": [
       "Graphics object consisting of 4 graphics primitives"
      ]
     },
     "metadata": {},
     "output_type": "display_data"
    },
    {
     "name": "stdout",
     "output_type": "stream",
     "text": [
      "Is e_T^2=e_T?\n",
      "Yes!\n",
      "Is it mutually orthogonal with the rest?\n",
      "Yes!\n",
      "The sum of all these idempotents are:\n",
      "B{{-4, 4}, {-3, 3}, {-2, 2}, {-1, 1}}\n"
     ]
    }
   ],
   "source": [
    "k=4\n",
    "z=5\n",
    "Bk_alg=BrauerAlgebra(k,z,QQbar)\n",
    "lst=list_of_brauer_irreducibles(k)\n",
    "basis=da.BrauerDiagrams(k)\n",
    "the_sum=Bk_alg.zero()\n",
    "for p in lst:\n",
    "    x=idempotent_of_partition_at_k(p,k,z)\n",
    "    the_sum+=x\n",
    "    print \"Testing the partition:\"\n",
    "    plot_partition_figure_list(partition_to_figure_list(p))\n",
    "    print \"Is e_T^2=e_T?\"\n",
    "    if x^2==x:\n",
    "        print \"Yes!\"\n",
    "    else:\n",
    "        print \"No!\"\n",
    "    print \"Is it mutually orthogonal with the rest?\"\n",
    "    flag=True\n",
    "    for q in lst:\n",
    "        if q!=p:\n",
    "            y=idempotent_of_partition_at_k(q,k,z)\n",
    "            if x*y!=0:\n",
    "                flag=False\n",
    "    if flag:\n",
    "        print \"Yes!\"\n",
    "    else:\n",
    "        print \"No!\"\n",
    "print \"The sum of all these idempotents are:\"\n",
    "print the_sum\n",
    "    "
   ]
  },
  {
   "cell_type": "markdown",
   "metadata": {},
   "source": [
    "And now we can figure out what representations of these idempotents project onto isotypic components corresponding to these partitions, deduce from the ranks of these matrices and the dimensions of the irreducible submodules of $B_k(z)$ exactly how our spaces decompose. The size of the Gelfand-Tsetlin basis will tell us exactly what this dimesnion is.\n",
    "\n",
    "It is important to note that $B_k(z)$ is semisimple for positive integers $n$ only when $n\\geq k$. We could potentially run into division by zero errors from the interpolating polynomial functions. Let's try an example."
   ]
  },
  {
   "cell_type": "code",
   "execution_count": 58,
   "metadata": {},
   "outputs": [
    {
     "name": "stdout",
     "output_type": "stream",
     "text": [
      "Testing the partition:\n"
     ]
    },
    {
     "data": {
      "image/png": "[encoded data removed]",
      "text/plain": [
       "Graphics object consisting of 1 graphics primitive"
      ]
     },
     "metadata": {},
     "output_type": "display_data"
    },
    {
     "name": "stdout",
     "output_type": "stream",
     "text": [
      "The dimension of this submodule is: \n",
      "3\n",
      "The rank of the representation of the corresponding idempotent is: \n",
      "9\n",
      "Therefore, the irreducible representation of this element decomposes into :\n",
      "3 copies of the submodule\n",
      "Testing the partition:\n"
     ]
    },
    {
     "data": {
      "image/png": "[encoded data removed]",
      "text/plain": [
       "Graphics object consisting of 3 graphics primitives"
      ]
     },
     "metadata": {},
     "output_type": "display_data"
    },
    {
     "name": "stdout",
     "output_type": "stream",
     "text": [
      "The dimension of this submodule is: \n",
      "1\n",
      "The rank of the representation of the corresponding idempotent is: \n",
      "7\n",
      "Therefore, the irreducible representation of this element decomposes into :\n",
      "7 copies of the submodule\n",
      "Testing the partition:\n"
     ]
    },
    {
     "data": {
      "image/png": "[encoded data removed]",
      "text/plain": [
       "Graphics object consisting of 3 graphics primitives"
      ]
     },
     "metadata": {},
     "output_type": "display_data"
    },
    {
     "name": "stdout",
     "output_type": "stream",
     "text": [
      "The dimension of this submodule is: \n",
      "2\n",
      "The rank of the representation of the corresponding idempotent is: \n",
      "10\n",
      "Therefore, the irreducible representation of this element decomposes into :\n",
      "5 copies of the submodule\n",
      "Testing the partition:\n"
     ]
    },
    {
     "data": {
      "image/png": "[encoded data removed]",
      "text/plain": [
       "Graphics object consisting of 3 graphics primitives"
      ]
     },
     "metadata": {},
     "output_type": "display_data"
    },
    {
     "name": "stdout",
     "output_type": "stream",
     "text": [
      "The dimension of this submodule is: \n",
      "1\n",
      "The rank of the representation of the corresponding idempotent is: \n",
      "1\n",
      "Therefore, the irreducible representation of this element decomposes into :\n",
      "1 copies of the submodule\n",
      "Do the representations sum up to the identity?\n",
      "Yes!\n"
     ]
    }
   ],
   "source": [
    "k=3\n",
    "n=3\n",
    "Bk_alg=BrauerAlgebra(k,n,QQbar)\n",
    "lst=list_of_brauer_irreducibles(k)\n",
    "mat_sum=zero_matrix(n^k)\n",
    "for p in lst:\n",
    "    x=idempotent_of_partition_at_k(p,k,n)\n",
    "    print \"Testing the partition:\"\n",
    "    plot_partition_figure_list(partition_to_figure_list(p))\n",
    "    print \"The dimension of this submodule is: \"\n",
    "    l=len(list_of_tableaus_to_partition(p,k))\n",
    "    print l\n",
    "    mat_x=psi_Bk(x,n,k)\n",
    "    print \"The rank of the representation of the corresponding idempotent is: \"\n",
    "    r=mat_x.rank()\n",
    "    print r\n",
    "    print \"Therefore, the irreducible representation of this element decomposes into :\"\n",
    "    print str((r/l))+\" copies of the submodule\"\n",
    "    mat_sum+=mat_x\n",
    "print \"Do the representations sum up to the identity?\" \n",
    "if mat_sum.is_one():\n",
    "    print \"Yes!\"\n",
    "else:\n",
    "    print \"No!\""
   ]
  },
  {
   "cell_type": "markdown",
   "metadata": {},
   "source": [
    "Now, to see what some of these matrix representations of idempotents in $\\text{End}(V)$ look like, let's try some smaller values for k:"
   ]
  },
  {
   "cell_type": "code",
   "execution_count": 59,
   "metadata": {
    "scrolled": true
   },
   "outputs": [
    {
     "name": "stdout",
     "output_type": "stream",
     "text": [
      "Testing the partition:\n"
     ]
    },
    {
     "data": {
      "text/html": [
       "<html><script type=\"math/tex; mode=display\">\\newcommand{\\Bold}[1]{\\mathbf{#1}}0</script></html>"
      ],
      "text/plain": [
       "0"
      ]
     },
     "metadata": {},
     "output_type": "display_data"
    },
    {
     "name": "stdout",
     "output_type": "stream",
     "text": [
      "The dimension of this submodule is: \n",
      "1\n",
      "[1/5   0   0   0 1/5   0   0   0 1/5]\n",
      "[  0   0   0   0   0   0   0   0   0]\n",
      "[  0   0   0   0   0   0   0   0   0]\n",
      "[  0   0   0   0   0   0   0   0   0]\n",
      "[1/5   0   0   0 1/5   0   0   0 1/5]\n",
      "[  0   0   0   0   0   0   0   0   0]\n",
      "[  0   0   0   0   0   0   0   0   0]\n",
      "[  0   0   0   0   0   0   0   0   0]\n",
      "[1/5   0   0   0 1/5   0   0   0 1/5]\n",
      "The rank of the representation of the corresponding idempotent is: \n",
      "1\n",
      "Therefore, the irreducible representation of this element decomposes into :\n",
      "1 copies of the submodule\n",
      "Testing the partition:\n"
     ]
    },
    {
     "data": {
      "image/png": "[encoded data removed]",
      "text/plain": [
       "Graphics object consisting of 2 graphics primitives"
      ]
     },
     "metadata": {},
     "output_type": "display_data"
    },
    {
     "name": "stdout",
     "output_type": "stream",
     "text": [
      "The dimension of this submodule is: \n",
      "1\n",
      "[ 4/5    0    0    0 -1/5    0    0    0 -1/5]\n",
      "[   0  1/2    0  1/2    0    0    0    0    0]\n",
      "[   0    0  1/2    0    0    0  1/2    0    0]\n",
      "[   0  1/2    0  1/2    0    0    0    0    0]\n",
      "[-1/5    0    0    0  4/5    0    0    0 -1/5]\n",
      "[   0    0    0    0    0  1/2    0  1/2    0]\n",
      "[   0    0  1/2    0    0    0  1/2    0    0]\n",
      "[   0    0    0    0    0  1/2    0  1/2    0]\n",
      "[-1/5    0    0    0 -1/5    0    0    0  4/5]\n",
      "The rank of the representation of the corresponding idempotent is: \n",
      "6\n",
      "Therefore, the irreducible representation of this element decomposes into :\n",
      "6 copies of the submodule\n",
      "Testing the partition:\n"
     ]
    },
    {
     "data": {
      "image/png": "[encoded data removed]",
      "text/plain": [
       "Graphics object consisting of 2 graphics primitives"
      ]
     },
     "metadata": {},
     "output_type": "display_data"
    },
    {
     "name": "stdout",
     "output_type": "stream",
     "text": [
      "The dimension of this submodule is: \n",
      "1\n",
      "[   0    0    0    0    0    0    0    0    0]\n",
      "[   0  1/2    0 -1/2    0    0    0    0    0]\n",
      "[   0    0  1/2    0    0    0 -1/2    0    0]\n",
      "[   0 -1/2    0  1/2    0    0    0    0    0]\n",
      "[   0    0    0    0    0    0    0    0    0]\n",
      "[   0    0    0    0    0  1/2    0 -1/2    0]\n",
      "[   0    0 -1/2    0    0    0  1/2    0    0]\n",
      "[   0    0    0    0    0 -1/2    0  1/2    0]\n",
      "[   0    0    0    0    0    0    0    0    0]\n",
      "The rank of the representation of the corresponding idempotent is: \n",
      "3\n",
      "Therefore, the irreducible representation of this element decomposes into :\n",
      "3 copies of the submodule\n",
      "Do the representations sum up to the identity?\n",
      "Yes!\n",
      "[1 0 0 0 0 0 0 0 0]\n",
      "[0 1 0 0 0 0 0 0 0]\n",
      "[0 0 1 0 0 0 0 0 0]\n",
      "[0 0 0 1 0 0 0 0 0]\n",
      "[0 0 0 0 1 0 0 0 0]\n",
      "[0 0 0 0 0 1 0 0 0]\n",
      "[0 0 0 0 0 0 1 0 0]\n",
      "[0 0 0 0 0 0 0 1 0]\n",
      "[0 0 0 0 0 0 0 0 1]\n"
     ]
    }
   ],
   "source": [
    "k=2\n",
    "n=3\n",
    "Bk_alg=BrauerAlgebra(k,n,QQbar)\n",
    "lst=list_of_brauer_irreducibles(k)\n",
    "mat_sum=zero_matrix(QQbar,n^k)\n",
    "for p in lst:\n",
    "    x=idempotent_of_partition_at_k(p,k,z)\n",
    "    print \"Testing the partition:\"\n",
    "    plot_partition_figure_list(partition_to_figure_list(p))\n",
    "    print \"The dimension of this submodule is: \"\n",
    "    l=len(list_of_tableaus_to_partition(p,k))\n",
    "    print l\n",
    "    mat_x=psi_Bk(x,n,k)\n",
    "    print mat_x\n",
    "    print \"The rank of the representation of the corresponding idempotent is: \"\n",
    "    r=mat_x.rank()\n",
    "    print r\n",
    "    print \"Therefore, the irreducible representation of this element decomposes into :\"\n",
    "    print str((r/l))+\" copies of the submodule\"\n",
    "    mat_sum+=mat_x\n",
    "print \"Do the representations sum up to the identity?\" \n",
    "if mat_sum.is_one():\n",
    "    print \"Yes!\"\n",
    "else:\n",
    "    print \"No!\"\n",
    "print mat_sum"
   ]
  },
  {
   "cell_type": "code",
   "execution_count": null,
   "metadata": {},
   "outputs": [],
   "source": []
  }
 ],
 "metadata": {
  "kernelspec": {
   "display_name": "SageMath 8.6",
   "language": "",
   "name": "sagemath"
  },
  "language_info": {
   "codemirror_mode": {
    "name": "ipython",
    "version": 2
   },
   "file_extension": ".py",
   "mimetype": "text/x-python",
   "name": "python",
   "nbconvert_exporter": "python",
   "pygments_lexer": "ipython2",
   "version": "2.7.15"
  }
 },
 "nbformat": 4,
 "nbformat_minor": 2
}
